{
 "cells": [
  {
   "cell_type": "markdown",
   "id": "a9ca09dd-39ee-4c79-9e31-8ba25c650ec8",
   "metadata": {
    "editable": true,
    "slideshow": {
     "slide_type": ""
    },
    "tags": []
   },
   "source": [
    "# Data Science Tools and Ecosystem"
   ]
  },
  {
   "cell_type": "markdown",
   "id": "68ed267b-b1b2-4f91-8bb9-17bcc37cf718",
   "metadata": {},
   "source": [
    "In this notebook, Data Science Tools and Ecosystem are summarized."
   ]
  },
  {
   "cell_type": "markdown",
   "id": "033f5e30-8e2c-4c69-bbd7-35a6edd867cd",
   "metadata": {
    "editable": true,
    "slideshow": {
     "slide_type": ""
    },
    "tags": []
   },
   "source": [
    "**Objectives:**\n",
    "- List popular languages for Data Science\n",
    "- List popular libraries for Data Science\n",
    "- List popular environments for Data Science"
   ]
  },
  {
   "cell_type": "markdown",
   "id": "e273093a-544d-4498-bc2b-d21a6637519f",
   "metadata": {},
   "source": [
    "Some of the popular languages that Data Scientists use are:\n",
    "1) R\n",
    "2) Python\n",
    "3) C++"
   ]
  },
  {
   "cell_type": "markdown",
   "id": "890bff9a-9c92-4026-8721-fe0c393dd7c4",
   "metadata": {},
   "source": [
    "Some of the commonly used libraries used by Data Scientists include:\n",
    "1) Matplotlib\n",
    "2) Pandas\n",
    "3) PyTorch"
   ]
  },
  {
   "cell_type": "markdown",
   "id": "a6d1d01c-4d72-4f55-8d5d-6273475bb779",
   "metadata": {},
   "source": [
    "| Data Science Tools |\n",
    "|------|\n",
    "| Jupyter Notebook |\n",
    "| RStudio |\n",
    "| VS code |"
   ]
  },
  {
   "cell_type": "markdown",
   "id": "6ad36677-9e22-4a92-8a38-f9ec7a40044d",
   "metadata": {},
   "source": [
    "### Below are a few examples of evaluating arithmetic expressions in Python"
   ]
  },
  {
   "cell_type": "code",
   "execution_count": 1,
   "id": "5dae0e37-428a-4d8a-a9a8-0d7d9cb68a53",
   "metadata": {},
   "outputs": [
    {
     "data": {
      "text/plain": [
       "17"
      ]
     },
     "execution_count": 1,
     "metadata": {},
     "output_type": "execute_result"
    }
   ],
   "source": [
    "# This a simple arithmetic expression to mutiply then add integers\n",
    "(3*4)+5"
   ]
  },
  {
   "cell_type": "code",
   "execution_count": 2,
   "id": "984c0871-96ea-41ff-bbc7-4ffdf0e7e4d3",
   "metadata": {},
   "outputs": [
    {
     "data": {
      "text/plain": [
       "3.3333333333333335"
      ]
     },
     "execution_count": 2,
     "metadata": {},
     "output_type": "execute_result"
    }
   ],
   "source": [
    "# This will convert 200 minutes to hours by diving by 60\n",
    "200/60"
   ]
  },
  {
   "cell_type": "markdown",
   "id": "0d045457-c4a7-49b9-9d0a-62d8552d57a1",
   "metadata": {},
   "source": [
    "## Author\n",
    "Alexandr Klioutchnikov"
   ]
  }
 ],
 "metadata": {
  "kernelspec": {
   "display_name": "Python 3 (ipykernel)",
   "language": "python",
   "name": "python3"
  },
  "language_info": {
   "codemirror_mode": {
    "name": "ipython",
    "version": 3
   },
   "file_extension": ".py",
   "mimetype": "text/x-python",
   "name": "python",
   "nbconvert_exporter": "python",
   "pygments_lexer": "ipython3",
   "version": "3.13.5"
  }
 },
 "nbformat": 4,
 "nbformat_minor": 5
}
